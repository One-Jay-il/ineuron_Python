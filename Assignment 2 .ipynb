{
 "cells": [
  {
   "cell_type": "markdown",
   "metadata": {},
   "source": [
    "# Assignment 2"
   ]
  },
  {
   "cell_type": "markdown",
   "metadata": {},
   "source": [
    "# Task1"
   ]
  },
  {
   "cell_type": "markdown",
   "metadata": {},
   "source": [
    "# 1.1"
   ]
  },
  {
   "cell_type": "code",
   "execution_count": 73,
   "metadata": {},
   "outputs": [
    {
     "name": "stdout",
     "output_type": "stream",
     "text": [
      "10\n",
      "24\n"
     ]
    }
   ],
   "source": [
    "#Write a Python Program to implement your own myreduce() function which works exactly like Python's built-in function reduce()\n",
    "def reducef(func,l):\n",
    "    a=l[0]\n",
    "    for i in range(1,len(l)):\n",
    "        a=func(a,l[i])\n",
    "    return a\n",
    "l=[1,2,3,4]\n",
    "#func=(lambda x,y:x+y,l)\n",
    "def summation(a,b):\n",
    "    return a+b\n",
    "def multiplication(a,b):\n",
    "    return a*b   \n",
    "a=reducef(summation,l)\n",
    "b=reducef(multiplication,l)\n",
    "print(a)\n",
    "print(b)"
   ]
  },
  {
   "cell_type": "markdown",
   "metadata": {},
   "source": [
    "# 1.2"
   ]
  },
  {
   "cell_type": "code",
   "execution_count": 69,
   "metadata": {},
   "outputs": [
    {
     "name": "stdout",
     "output_type": "stream",
     "text": [
      "Even no:s are:2 4 "
     ]
    }
   ],
   "source": [
    "#Write a Python program to implement your own myfilter() function which works exactly like Python's built-in function filter()\n",
    "def filterf(func,l):\n",
    "    d=len(l)\n",
    "    m=[]\n",
    "    for i in range(0,d):\n",
    "         m.append(func(l[i]))\n",
    "    for i in range(0,d):\n",
    "        if m[i]==1:\n",
    "            print(l[i],end=\" \")\n",
    "    \n",
    "l=[1,2,3,4]\n",
    "def even(l):\n",
    "    if l%2==0:\n",
    "        return 1\n",
    "    else:\n",
    "        return 0\n",
    "print(\"Even no:s are:\",end='')\n",
    "filterf(even,l)   "
   ]
  },
  {
   "cell_type": "markdown",
   "metadata": {},
   "source": [
    "# 2"
   ]
  },
  {
   "cell_type": "code",
   "execution_count": 68,
   "metadata": {},
   "outputs": [
    {
     "name": "stdout",
     "output_type": "stream",
     "text": [
      "['A', 'C', 'D', 'G', 'I', 'L', 'D']\n",
      "['x', 'xx', 'xxx', 'xxxx', 'y', 'yy', 'yyy', 'yyyy', 'z', 'zz', 'zzz', 'zzzz']\n",
      "['x', 'y', 'z', 'xx', 'yy', 'zz', 'xxx', 'yyy', 'zzz', 'xxxx', 'yyyy', 'zzzz']\n",
      "[[2], [3], [4], [3], [4], [5], [4], [5], [6]]\n",
      "[[2, 3, 4, 5], [3, 4, 5, 6], [4, 5, 6, 7], [5, 6, 7, 8]]\n",
      "[(1, 1), (2, 1), (3, 1), (1, 2), (2, 2), (3, 2), (1, 3), (2, 3), (3, 3)]\n"
     ]
    }
   ],
   "source": [
    "#1\n",
    "list1 = 'ACDGILD'\n",
    "result1 = [ i for i in list1 ] \n",
    "print(str(result1))\n",
    "#2\n",
    "list2 = ['x','y','z']\n",
    "result2 = [ i*j for i in list2 for j in range(1,5)  ]\n",
    "print(str(result2))\n",
    "\n",
    "#3\n",
    "list3 = ['x','y','z']\n",
    "result3 = [i*j  for j in range(1,5) for i in list3 ]\n",
    "print(str(result3))\n",
    "\n",
    "#4\n",
    "list4 = [2,3,4]\n",
    "result4 = [[i+j] for i in list4 for j in range(0,3)]\n",
    "print(str(result4))\n",
    "\n",
    "#5\n",
    "list5 = [2,3,4,5]\n",
    "result5 = [[i+j for i in list5] for j in range(0,4)  ]\n",
    "print(str(result5))\n",
    "\n",
    "#6\n",
    "list6=[1,2,3]\n",
    "result6 = [(j,i) for i in list6 for j in list6]\n",
    "print(str(result6))\n"
   ]
  },
  {
   "cell_type": "markdown",
   "metadata": {},
   "source": [
    "# 3"
   ]
  },
  {
   "cell_type": "code",
   "execution_count": 114,
   "metadata": {},
   "outputs": [
    {
     "name": "stdout",
     "output_type": "stream",
     "text": [
      "abcde\n"
     ]
    }
   ],
   "source": [
    "#Implement a function longestWord() that takes a list of words and returns the longest one.\n",
    "l=['abc' ,'abcd','abcde']\n",
    "def longestword(l):\n",
    "    longestword = max(l, key=len)\n",
    "    return longestword\n",
    "\n",
    "print(longestword(l))\n"
   ]
  },
  {
   "cell_type": "markdown",
   "metadata": {},
   "source": [
    "# Task 2"
   ]
  },
  {
   "cell_type": "markdown",
   "metadata": {},
   "source": [
    "# 1.1"
   ]
  },
  {
   "cell_type": "code",
   "execution_count": null,
   "metadata": {},
   "outputs": [],
   "source": [
    "#Write a Python Program(with class concepts) to find the area of the triangle using the below  formula.\n",
    "#    area = (s*(s-a)*(s-b)*(s-c)) ** 0.5\n",
    "#Function to take the length of the sides of triangle from user should be defined in the parent\n",
    "#class and function to calculate the area should be defined in subclass."
   ]
  },
  {
   "cell_type": "code",
   "execution_count": 25,
   "metadata": {},
   "outputs": [
    {
     "name": "stdout",
     "output_type": "stream",
     "text": [
      "Enter side1 of triangle:2\n",
      "Enter side2 of traangle:2\n",
      "Enter side3 of triangle:2\n",
      "Area of triangle is : 1.7320508075688772\n"
     ]
    },
    {
     "data": {
      "text/plain": [
       "1.7320508075688772"
      ]
     },
     "execution_count": 25,
     "metadata": {},
     "output_type": "execute_result"
    }
   ],
   "source": [
    "class triangle:   # init: initialize\n",
    "    def __init__(self,length): #constructor #self can be renamed\n",
    "        self.sidea=sidea\n",
    "        self.sideb=sideb\n",
    "        self.sidec=sidec\n",
    "        self.s=s\n",
    "        self.area=area\n",
    "    def input():\n",
    "        triangle.sidea=float(input(\"Enter side1 of triangle:\"))\n",
    "        triangle.sideb=float(input(\"Enter side2 of traangle:\"))\n",
    "        triangle.sidec=float(input(\"Enter side3 of triangle:\"))\n",
    "        \n",
    "class area(triangle):\n",
    "    def calc():\n",
    "        triangle.s=(triangle.sidea+triangle.sideb+triangle.sidec)/2\n",
    "        triangle.area=(triangle.s*(triangle.s-triangle.sidea)*(triangle.s-triangle.sideb)*(triangle.s-triangle.sidec)) ** 0.5\n",
    "        print(\"Area of triangle is :\",triangle.area)\n",
    "        return triangle.area\n",
    "        \n",
    "triangle.input()\n",
    "area.calc()\n",
    "\n"
   ]
  },
  {
   "cell_type": "code",
   "execution_count": null,
   "metadata": {},
   "outputs": [],
   "source": []
  },
  {
   "cell_type": "code",
   "execution_count": null,
   "metadata": {},
   "outputs": [],
   "source": [
    "#Write a function filter_long_words() that takes a list of words and an integer n and returns the list\n",
    "#of words that are longer than n."
   ]
  },
  {
   "cell_type": "code",
   "execution_count": 36,
   "metadata": {},
   "outputs": [
    {
     "name": "stdout",
     "output_type": "stream",
     "text": [
      "enter list of items with space:tea coffee whiskey vodka cola\n",
      "enter maximum number of letter in a word to filter:3\n",
      "Words greater than 3 letters are:\n",
      "coffee,whiskey,vodka,cola,"
     ]
    }
   ],
   "source": [
    "#l=('tea','coffee','whiskey','rum','vodka','cola')\n",
    "m=[]\n",
    "def  filter_long_words(l,n):\n",
    "    for i in l:\n",
    "        count =0\n",
    "        for j in i:\n",
    "            #print(j)\n",
    "            count =count +1\n",
    "        m.append(count)\n",
    "    print(\"Words greater than \"  +str(n) + \" letters are\",end=':')\n",
    "    for i in range(0,len(l)):\n",
    "        if m[i]>n:\n",
    "             print(l[i],end=\",\")\n",
    "\n",
    "l=input(\"enter list of items with space:\")\n",
    "l = l.split()\n",
    "n=int(input(\"enter maximum number of letter in a word to filter:\"))               \n",
    "filter_long_words(l,n)  "
   ]
  },
  {
   "cell_type": "markdown",
   "metadata": {},
   "source": [
    "# 2.1"
   ]
  },
  {
   "cell_type": "code",
   "execution_count": null,
   "metadata": {},
   "outputs": [],
   "source": [
    "#Write a Python program using function concept that maps list of words into a list of integers\n",
    "#representing the lengths of the corresponding words .\n",
    "#Hint: If a list [ ab,cde,erty] is passed on to the python function output should come as [2,3,4]\n",
    "#Here 2,3 and 4 are the lengths of the words in the list."
   ]
  },
  {
   "cell_type": "code",
   "execution_count": 74,
   "metadata": {},
   "outputs": [
    {
     "name": "stdout",
     "output_type": "stream",
     "text": [
      "enter list of items with space:tea coffee whiskey vodka cola\n",
      "List of number of letters in given word list:3,6,7,5,4,"
     ]
    }
   ],
   "source": [
    "#l=('tea','coffee','whiskey','rum','vodka','cola')\n",
    "m=[]\n",
    "def  filter_long_words(l):\n",
    "    for i in l:\n",
    "        count =0\n",
    "        for j in i:\n",
    "            #print(j)\n",
    "            count =count +1\n",
    "        m.append(count)\n",
    "    print(\"List of number of letters in given word list\",end=':')\n",
    "    for i in range(0,len(l)):\n",
    "             print(m[i],end=\",\")\n",
    "\n",
    "l=input(\"enter list of items with space:\")\n",
    "l = l.split()         \n",
    "filter_long_words(l) "
   ]
  },
  {
   "cell_type": "markdown",
   "metadata": {},
   "source": [
    "# 2.2"
   ]
  },
  {
   "cell_type": "code",
   "execution_count": 70,
   "metadata": {},
   "outputs": [
    {
     "name": "stdout",
     "output_type": "stream",
     "text": [
      "enter the character:e\n"
     ]
    },
    {
     "data": {
      "text/plain": [
       "1"
      ]
     },
     "execution_count": 70,
     "metadata": {},
     "output_type": "execute_result"
    }
   ],
   "source": [
    "#2.2Write a Python function which takes a character (i.e. a string of length 1) and returns True if it is\n",
    "#a vowel, False otherwise.\n",
    "\n",
    "def ifvowel(l):\n",
    "    if l == 'A' :\n",
    "        return 1\n",
    "    elif l == 'E':\n",
    "        return 1\n",
    "    elif l == 'I':\n",
    "        return 1\n",
    "    elif l == 'O':\n",
    "        return 1\n",
    "    elif l == 'U':\n",
    "        return 1\n",
    "    elif l == 'a':\n",
    "        return 1\n",
    "    elif l == 'e' :\n",
    "        return 1\n",
    "    elif l == 'i' :\n",
    "        return 1\n",
    "    elif l == 'o' :\n",
    "        return 1\n",
    "    elif l == 'u' :\n",
    "        return 1\n",
    "    else:\n",
    "        return 0\n",
    "    \n",
    "\n",
    "l=input(\"enter the character:\")         \n",
    "ifvowel(l) "
   ]
  }
 ],
 "metadata": {
  "kernelspec": {
   "display_name": "Python 3",
   "language": "python",
   "name": "python3"
  }
 },
 "nbformat": 4,
 "nbformat_minor": 4
}
